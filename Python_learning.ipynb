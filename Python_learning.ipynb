{
 "cells": [
  {
   "cell_type": "markdown",
   "id": "feddcac2",
   "metadata": {},
   "source": [
    "# Python"
   ]
  },
  {
   "cell_type": "markdown",
   "id": "02f534c0",
   "metadata": {},
   "source": [
    "# Arithmetic Operators"
   ]
  },
  {
   "cell_type": "markdown",
   "id": "f8546973",
   "metadata": {},
   "source": [
    "*  + Addition(+)\n",
    "*  - Subtraction(-)\n",
    "*   * Multiplication(*)\n",
    "*   / Division\n",
    "*   % Mod (the remainder after dividing)\n",
    "*   ** Exponentiation (note that ^ does not do this operation, as you might have seen in other languages)\n",
    "*   // Divides and rounds down to the nearest integer"
   ]
  },
  {
   "cell_type": "code",
   "execution_count": 2,
   "id": "ad649342",
   "metadata": {
    "ExecuteTime": {
     "end_time": "2021-07-21T04:45:41.284507Z",
     "start_time": "2021-07-21T04:45:41.271505Z"
    }
   },
   "outputs": [
    {
     "name": "stdout",
     "output_type": "stream",
     "text": [
      "8\n",
      "1\n",
      "16\n",
      "1\n"
     ]
    }
   ],
   "source": [
    "##Exercise\n",
    "\n",
    "print(3+5)\n",
    "print(3//2)\n",
    "print(4**2)\n",
    "print(3%2)\n"
   ]
  },
  {
   "cell_type": "code",
   "execution_count": 3,
   "id": "9a245d1b",
   "metadata": {
    "ExecuteTime": {
     "end_time": "2021-07-21T04:52:47.828641Z",
     "start_time": "2021-07-21T04:52:47.810638Z"
    }
   },
   "outputs": [
    {
     "name": "stdout",
     "output_type": "stream",
     "text": [
      "98\n"
     ]
    }
   ],
   "source": [
    "print(9*7+5*7)"
   ]
  },
  {
   "cell_type": "code",
   "execution_count": 4,
   "id": "999b64d0",
   "metadata": {
    "ExecuteTime": {
     "end_time": "2021-07-21T04:53:22.623088Z",
     "start_time": "2021-07-21T04:53:22.607082Z"
    }
   },
   "outputs": [
    {
     "name": "stdout",
     "output_type": "stream",
     "text": [
      "102\n"
     ]
    }
   ],
   "source": [
    "print(17*6)"
   ]
  },
  {
   "cell_type": "code",
   "execution_count": 5,
   "id": "118eff00",
   "metadata": {
    "ExecuteTime": {
     "end_time": "2021-07-21T05:07:17.336507Z",
     "start_time": "2021-07-21T05:07:17.320506Z"
    }
   },
   "outputs": [
    {
     "name": "stdout",
     "output_type": "stream",
     "text": [
      "500000.0\n"
     ]
    }
   ],
   "source": [
    "rainfall=5e6\n",
    "print(rainfall*0.10)"
   ]
  },
  {
   "cell_type": "code",
   "execution_count": 7,
   "id": "b465eec6",
   "metadata": {
    "ExecuteTime": {
     "end_time": "2021-07-21T05:09:25.807198Z",
     "start_time": "2021-07-21T05:09:25.783197Z"
    }
   },
   "outputs": [
    {
     "name": "stdout",
     "output_type": "stream",
     "text": [
      "22225000.0\n"
     ]
    }
   ],
   "source": [
    "reservoir_volume = 444500000.0\n",
    "print(reservoir_volume * 0.05)"
   ]
  },
  {
   "cell_type": "code",
   "execution_count": 8,
   "id": "61340585",
   "metadata": {
    "ExecuteTime": {
     "end_time": "2021-07-21T05:58:28.991659Z",
     "start_time": "2021-07-21T05:58:28.896707Z"
    }
   },
   "outputs": [
    {
     "name": "stdout",
     "output_type": "stream",
     "text": [
      "15\n"
     ]
    }
   ],
   "source": [
    "sum=(print(5*3))\n",
    "sum"
   ]
  },
  {
   "cell_type": "markdown",
   "id": "88d657a1",
   "metadata": {},
   "source": [
    "# Type of Operators\n",
    "* Arithmatic           (+,-,*,/)\n",
    "* Assignment           (+=,-=)\n",
    "* Comparsion           (<,>,=,!)\n",
    "* Logical              (and,or,not)\n",
    "* Bitwise\n",
    "* Identity\n",
    "* Membership"
   ]
  },
  {
   "cell_type": "code",
   "execution_count": 1,
   "id": "8af8e2e7",
   "metadata": {
    "ExecuteTime": {
     "end_time": "2021-07-23T07:57:08.019905Z",
     "start_time": "2021-07-23T07:57:07.998897Z"
    }
   },
   "outputs": [
    {
     "name": "stdout",
     "output_type": "stream",
     "text": [
      "7\n",
      "-1\n",
      "12\n",
      "0.75\n",
      "3\n",
      "0\n",
      "81\n"
     ]
    }
   ],
   "source": [
    "##Arithmatic (+,-,*,/)\n",
    "\n",
    "a=3\n",
    "b=4\n",
    "print(a+b)\n",
    "print(a-b)\n",
    "print(a*b)\n",
    "print(a/b)\n",
    "print(a%b)\n",
    "print(a//b)\n",
    "print(a**b)"
   ]
  },
  {
   "cell_type": "code",
   "execution_count": 11,
   "id": "c26afd11",
   "metadata": {
    "ExecuteTime": {
     "end_time": "2021-07-23T08:06:07.747348Z",
     "start_time": "2021-07-23T08:06:07.727345Z"
    }
   },
   "outputs": [
    {
     "name": "stdout",
     "output_type": "stream",
     "text": [
      "11\n",
      "10\n",
      "9\n",
      "10\n",
      "0\n",
      "10.0\n",
      "10\n",
      "10\n"
     ]
    }
   ],
   "source": [
    "##Assignment (+=,-=)\n",
    "\n",
    "a=10\n",
    "#a=a+1\n",
    "a+=1\n",
    "print(a)\n",
    "\n",
    "a=10\n",
    "#a=a+1\n",
    "a1=1\n",
    "print(a)\n",
    "\n",
    "a=10\n",
    "#a=a+1\n",
    "a-=1\n",
    "print(a)\n",
    "\n",
    "a=10\n",
    "#a=a+1\n",
    "a*=1\n",
    "print(a)\n",
    "\n",
    "a=10\n",
    "#a=a+1\n",
    "a%=1\n",
    "print(a)\n",
    "\n",
    "a=10\n",
    "#a=a+1\n",
    "a/=1\n",
    "print(a)\n",
    "\n",
    "a=10\n",
    "#a=a+1\n",
    "a//=1\n",
    "print(a)\n",
    "\n",
    "a=10\n",
    "#a=a+1\n",
    "a**=1\n",
    "print(a)\n",
    "\n",
    "\n"
   ]
  },
  {
   "cell_type": "code",
   "execution_count": 16,
   "id": "4d247d46",
   "metadata": {
    "ExecuteTime": {
     "end_time": "2021-07-23T08:18:03.156533Z",
     "start_time": "2021-07-23T08:18:03.138531Z"
    }
   },
   "outputs": [
    {
     "name": "stdout",
     "output_type": "stream",
     "text": [
      "a is smaller than b\n",
      "b is greater\n",
      "otherwise b is greater\n",
      "a is smaller\n",
      "True\n"
     ]
    }
   ],
   "source": [
    "#Comparsion (<,>,=,!)\n",
    "\n",
    "a=10\n",
    "b=12\n",
    "\n",
    "if a<b:\n",
    "    print(\"a is smaller than b\")\n",
    "else:\n",
    "    print(\"b is greater than a\")\n",
    "    \n",
    "if a>b:\n",
    "    print(\"a is greater\")\n",
    "else:\n",
    "    print(\"b is greater\")\n",
    "    \n",
    "if a>=b:\n",
    "    print(\"a is aleays greater\")\n",
    "else:\n",
    "    print(\"otherwise b is greater\")\n",
    "if a<=b:\n",
    "    print(\"a is smaller\")\n",
    "else:\n",
    "    print(\"b is greater\")\n",
    "if a!=b:\n",
    "    print(\"True\")\n",
    "else:\n",
    "    print(\"False\")"
   ]
  },
  {
   "cell_type": "code",
   "execution_count": 17,
   "id": "90a06a46",
   "metadata": {
    "ExecuteTime": {
     "end_time": "2021-07-23T08:31:59.737190Z",
     "start_time": "2021-07-23T08:31:59.728191Z"
    }
   },
   "outputs": [
    {
     "name": "stdout",
     "output_type": "stream",
     "text": [
      "True\n",
      "False\n"
     ]
    }
   ],
   "source": [
    "#Identity Operators( is, is not)\n",
    "\n",
    "a=3\n",
    "b=a\n",
    "\n",
    "print(a is b)\n",
    "print(a is not b)"
   ]
  },
  {
   "cell_type": "code",
   "execution_count": 24,
   "id": "42fc21bc",
   "metadata": {
    "ExecuteTime": {
     "end_time": "2021-07-23T08:40:17.722632Z",
     "start_time": "2021-07-23T08:40:17.710629Z"
    }
   },
   "outputs": [
    {
     "name": "stdout",
     "output_type": "stream",
     "text": [
      "True\n",
      "True\n",
      "False\n",
      "True\n"
     ]
    }
   ],
   "source": [
    "#Membership operator  (in, not in)\n",
    "\n",
    "a=\"apple\"\n",
    "print(a in \"apple\")\n",
    "b=[1,2,3,4,]\n",
    "print(3 in b)\n",
    "print(5 in b)\n",
    "print(5 not in b)"
   ]
  },
  {
   "cell_type": "markdown",
   "id": "293604f8",
   "metadata": {},
   "source": [
    "# Input from User"
   ]
  },
  {
   "cell_type": "code",
   "execution_count": 25,
   "id": "b846bfba",
   "metadata": {
    "ExecuteTime": {
     "end_time": "2021-07-23T12:14:31.789573Z",
     "start_time": "2021-07-23T12:14:28.956836Z"
    }
   },
   "outputs": [
    {
     "name": "stdout",
     "output_type": "stream",
     "text": [
      "Enter the first number : 2\n",
      "Enter the second number : 2\n",
      "Result :  4\n"
     ]
    }
   ],
   "source": [
    "#using Interger values\n",
    "\n",
    "a = int(input(\"Enter the first number : \"))\n",
    "b = int(input(\"Enter the second number : \"))\n",
    "c=a+b\n",
    "print(\"Result : \",c)"
   ]
  },
  {
   "cell_type": "code",
   "execution_count": 26,
   "id": "02b42a66",
   "metadata": {
    "ExecuteTime": {
     "end_time": "2021-07-23T12:15:24.621286Z",
     "start_time": "2021-07-23T12:15:20.855899Z"
    }
   },
   "outputs": [
    {
     "name": "stdout",
     "output_type": "stream",
     "text": [
      "Enter the first number : 2.2\n",
      "Enter the second number : 2\n",
      "Result :  4.2\n"
     ]
    }
   ],
   "source": [
    "#using float values\n",
    "\n",
    "a = float(input(\"Enter the first number : \"))\n",
    "b = float(input(\"Enter the second number : \"))\n",
    "c=a+b\n",
    "print(\"Result : \",c)"
   ]
  },
  {
   "cell_type": "code",
   "execution_count": 29,
   "id": "b010cd1d",
   "metadata": {
    "ExecuteTime": {
     "end_time": "2021-07-23T12:16:36.890675Z",
     "start_time": "2021-07-23T12:16:35.522691Z"
    }
   },
   "outputs": [
    {
     "name": "stdout",
     "output_type": "stream",
     "text": [
      "Enter the first number : 3w\n",
      "Enter the second number : \n"
     ]
    },
    {
     "ename": "TypeError",
     "evalue": "can't multiply sequence by non-int of type 'str'",
     "output_type": "error",
     "traceback": [
      "\u001b[1;31m---------------------------------------------------------------------------\u001b[0m",
      "\u001b[1;31mTypeError\u001b[0m                                 Traceback (most recent call last)",
      "\u001b[1;32m<ipython-input-29-f7e8daad6104>\u001b[0m in \u001b[0;36m<module>\u001b[1;34m\u001b[0m\n\u001b[0;32m      3\u001b[0m \u001b[0ma\u001b[0m \u001b[1;33m=\u001b[0m \u001b[0minput\u001b[0m\u001b[1;33m(\u001b[0m\u001b[1;34m\"Enter the first number : \"\u001b[0m\u001b[1;33m)\u001b[0m\u001b[1;33m\u001b[0m\u001b[1;33m\u001b[0m\u001b[0m\n\u001b[0;32m      4\u001b[0m \u001b[0mb\u001b[0m \u001b[1;33m=\u001b[0m \u001b[0minput\u001b[0m\u001b[1;33m(\u001b[0m\u001b[1;34m\"Enter the second number : \"\u001b[0m\u001b[1;33m)\u001b[0m\u001b[1;33m\u001b[0m\u001b[1;33m\u001b[0m\u001b[0m\n\u001b[1;32m----> 5\u001b[1;33m \u001b[0mc\u001b[0m\u001b[1;33m=\u001b[0m\u001b[0ma\u001b[0m\u001b[1;33m*\u001b[0m\u001b[0mb\u001b[0m\u001b[1;33m\u001b[0m\u001b[1;33m\u001b[0m\u001b[0m\n\u001b[0m\u001b[0;32m      6\u001b[0m \u001b[0mprint\u001b[0m\u001b[1;33m(\u001b[0m\u001b[1;34m\"Result : \"\u001b[0m\u001b[1;33m,\u001b[0m\u001b[0mc\u001b[0m\u001b[1;33m)\u001b[0m\u001b[1;33m\u001b[0m\u001b[1;33m\u001b[0m\u001b[0m\n",
      "\u001b[1;31mTypeError\u001b[0m: can't multiply sequence by non-int of type 'str'"
     ]
    }
   ],
   "source": [
    "#without using anything by default uses String function\n",
    "\n",
    "a = input(\"Enter the first number : \")\n",
    "b = input(\"Enter the second number : \")\n",
    "c=a*b\n",
    "print(\"Result : \",c)"
   ]
  },
  {
   "cell_type": "markdown",
   "id": "5e039b8b",
   "metadata": {},
   "source": [
    "# Keywords & Identifiers"
   ]
  },
  {
   "cell_type": "markdown",
   "id": "3b4e6f58",
   "metadata": {},
   "source": [
    "* Keywords are the reserve words or pre-defined words.\n",
    "* There are total 33 keyword.\n",
    "* All keywords are in lower case expect True,False and None.\n"
   ]
  },
  {
   "cell_type": "markdown",
   "id": "7eaa03d0",
   "metadata": {},
   "source": [
    "* Identifiers are same like class,function ,varaibles etc\n",
    "\n",
    "* Rules of Identifiers\n",
    "    * Can't start with digit\n",
    "    * Can be of any length\n",
    "    * Defined keywords can't be used\n",
    "    * Special symbols not allowed\n",
    "    * Can be a combination"
   ]
  },
  {
   "cell_type": "markdown",
   "id": "7034370c",
   "metadata": {},
   "source": [
    "# Valid and Invalid Identifiers"
   ]
  },
  {
   "cell_type": "markdown",
   "id": "397f61b2",
   "metadata": {},
   "source": [
    "* for---Invalid beacuse its an pre-difened keyword\n",
    "* 95W--Invalid ,becuase cant start with digit\n",
    "* X_y==Valid   \n",
    "* _ab== valid \n",
    "* 9_p==invalid ,cant start with digits"
   ]
  },
  {
   "cell_type": "markdown",
   "id": "e5a2555c",
   "metadata": {},
   "source": [
    "# Data Type and Type Casting"
   ]
  },
  {
   "cell_type": "markdown",
   "id": "374551d1",
   "metadata": {},
   "source": [
    "* Variables have values and values have data types\n",
    "\n",
    "* ex:--a=5\n",
    "  *  a==variable\n",
    "  *  5=integer"
   ]
  },
  {
   "cell_type": "markdown",
   "id": "a1166f50",
   "metadata": {},
   "source": [
    "* Different Data types\n",
    "* Numeric\n",
    "    * Complex number\n",
    "    * float\n",
    "    * integer\n",
    "* Dictionary\n",
    "* Boolean\n",
    "* Set\n",
    "* Sequence Type\n",
    "    * string\n",
    "    * list\n",
    "    * tuple"
   ]
  },
  {
   "cell_type": "markdown",
   "id": "e3791f0f",
   "metadata": {},
   "source": [
    "* Data Types are :\n",
    "    * Integer\n",
    "    * FLoat\n",
    "    * String"
   ]
  },
  {
   "cell_type": "code",
   "execution_count": 1,
   "id": "2ddce113",
   "metadata": {
    "ExecuteTime": {
     "end_time": "2021-07-24T07:12:58.571943Z",
     "start_time": "2021-07-24T07:12:58.475927Z"
    }
   },
   "outputs": [
    {
     "name": "stdout",
     "output_type": "stream",
     "text": [
      "<class 'int'>\n"
     ]
    }
   ],
   "source": [
    "a=12\n",
    "print(type(a))"
   ]
  },
  {
   "cell_type": "code",
   "execution_count": 2,
   "id": "60f8a3e8",
   "metadata": {
    "ExecuteTime": {
     "end_time": "2021-07-24T07:13:15.314560Z",
     "start_time": "2021-07-24T07:13:15.282558Z"
    }
   },
   "outputs": [
    {
     "name": "stdout",
     "output_type": "stream",
     "text": [
      "<class 'float'>\n"
     ]
    }
   ],
   "source": [
    "a=12.22\n",
    "print(type(a))"
   ]
  },
  {
   "cell_type": "code",
   "execution_count": 3,
   "id": "3494851e",
   "metadata": {
    "ExecuteTime": {
     "end_time": "2021-07-24T07:13:30.278465Z",
     "start_time": "2021-07-24T07:13:30.262465Z"
    }
   },
   "outputs": [
    {
     "name": "stdout",
     "output_type": "stream",
     "text": [
      "<class 'str'>\n"
     ]
    }
   ],
   "source": [
    "a=\"Sandeep\"\n",
    "print(type(a))"
   ]
  },
  {
   "cell_type": "markdown",
   "id": "c1e4210a",
   "metadata": {},
   "source": [
    "* Type Casting  -- Conversion of one data type to another data type\n",
    "\n",
    "* there are two types of Type casting\n",
    "    * Implicit\n",
    "    * Explicit\n",
    "   \n"
   ]
  },
  {
   "cell_type": "markdown",
   "id": "42634c2b",
   "metadata": {},
   "source": [
    "* Implicit Type Casting --Type of conversation in which data type is converted automatically \n",
    "* Ex:-\n",
    "    * a=123  --data type integer\n",
    "    * b=12.3  --data type Float\n",
    "    * c=a+b\n",
    "    * answer:=145.3   data type FLoat\n"
   ]
  },
  {
   "cell_type": "markdown",
   "id": "fcb344d5",
   "metadata": {},
   "source": [
    "* Reason for getting answer in float in implicit function of data type\n",
    "\n",
    "* Highest Rank\n",
    "\n",
    "* Long Double\n",
    "* DOuble\n",
    "* float\n",
    "* unsigned long int    ^\n",
    "* long int             | \n",
    "* unsigned int         | \n",
    "* int                  | \n",
    "* char short int       |\n",
    "\n",
    "* lower rank"
   ]
  },
  {
   "cell_type": "markdown",
   "id": "9fd79247",
   "metadata": {},
   "source": [
    "* Explicit Type Conversation --- User has to do the data type conversation by himself\n",
    "\n",
    "* syntax==required_datatype(expression)\n",
    "\n",
    "* Ex:--\n",
    "    * A=\"123456\" ---datatype String\n",
    "    * b=2          --datatype Integer\n",
    "    * A=int(A)     conversion of datatype to integer\n",
    "    "
   ]
  },
  {
   "cell_type": "markdown",
   "id": "1d19f3f7",
   "metadata": {},
   "source": [
    "# String Function \" \""
   ]
  },
  {
   "cell_type": "markdown",
   "id": "21f7e864",
   "metadata": {},
   "source": [
    "* isallnum()              * will only return boolean \n",
    "* upper()\n",
    "* lower ()\n",
    "* count()\n",
    "* endswith()              * will only return boolean \n",
    "* capatize ()\n",
    "* find()"
   ]
  },
  {
   "cell_type": "code",
   "execution_count": 7,
   "id": "afc0e38f",
   "metadata": {
    "ExecuteTime": {
     "end_time": "2021-07-24T08:11:27.000333Z",
     "start_time": "2021-07-24T08:11:26.984333Z"
    }
   },
   "outputs": [
    {
     "name": "stdout",
     "output_type": "stream",
     "text": [
      "False\n",
      "True\n"
     ]
    }
   ],
   "source": [
    "##isallnum()\n",
    "     # to check does the string is AlphaNumerical\n",
    "     # it shouldn't contains any spaces in between\n",
    "\n",
    "##Example of isalnum()\n",
    "\n",
    "my_str=\"My Name is Sandeep\"\n",
    "print(my_str.isalnum())\n",
    "\n",
    "my_str=\"MyNameisSandeep30\"\n",
    "print(my_str.isalnum())"
   ]
  },
  {
   "cell_type": "code",
   "execution_count": 10,
   "id": "c23ec385",
   "metadata": {
    "ExecuteTime": {
     "end_time": "2021-07-24T08:15:42.069611Z",
     "start_time": "2021-07-24T08:15:42.045614Z"
    }
   },
   "outputs": [
    {
     "name": "stdout",
     "output_type": "stream",
     "text": [
      "True\n",
      "False\n"
     ]
    }
   ],
   "source": [
    "# EndsWith()\n",
    "\n",
    "a=\"learning new python\"\n",
    "print(a.endswith(\"python\"))\n",
    "print(a.endswith(\"new\"))"
   ]
  },
  {
   "cell_type": "code",
   "execution_count": 12,
   "id": "805cb94b",
   "metadata": {
    "ExecuteTime": {
     "end_time": "2021-07-24T08:22:50.563074Z",
     "start_time": "2021-07-24T08:22:50.542937Z"
    }
   },
   "outputs": [
    {
     "name": "stdout",
     "output_type": "stream",
     "text": [
      "4\n"
     ]
    }
   ],
   "source": [
    "# Count Function\n",
    "\n",
    "#Example\n",
    "a=\"learning new python\"\n",
    "print(a.count(\"n\"))"
   ]
  },
  {
   "cell_type": "code",
   "execution_count": 14,
   "id": "4d2ed012",
   "metadata": {
    "ExecuteTime": {
     "end_time": "2021-07-24T08:28:28.226895Z",
     "start_time": "2021-07-24T08:28:28.211805Z"
    }
   },
   "outputs": [
    {
     "name": "stdout",
     "output_type": "stream",
     "text": [
      "Learning new python\n"
     ]
    }
   ],
   "source": [
    "# Capitalize Function\n",
    "    # it ll convert the first letter of the sentance as capital\n",
    "    # it ll convert all the letters to lower casew apart from first letter\n",
    "\n",
    "#Example\n",
    "a=\"learning new python\"\n",
    "print(a.capitalize())"
   ]
  },
  {
   "cell_type": "code",
   "execution_count": 18,
   "id": "e3ecc0a1",
   "metadata": {
    "ExecuteTime": {
     "end_time": "2021-07-24T08:36:23.746318Z",
     "start_time": "2021-07-24T08:36:23.721766Z"
    }
   },
   "outputs": [
    {
     "name": "stdout",
     "output_type": "stream",
     "text": [
      "4\n",
      "15\n",
      "-1\n"
     ]
    }
   ],
   "source": [
    " # Find FUnction\n",
    "    # it is used to find the index of the words in the sentance\n",
    "    \n",
    "   #example\n",
    "a=\"learning new python\"\n",
    "print(a.find(\"n\"))   \n",
    "print(a.find(\"t\")) \n",
    "print(a.find(\"m\")) "
   ]
  },
  {
   "cell_type": "markdown",
   "id": "f58c8d1a",
   "metadata": {},
   "source": [
    "# List [ ]\n",
    "* Sort\n",
    "* Reverse\n",
    "* Slicing\n",
    "* Length\n",
    "* Min and Max function\n",
    "* Remove"
   ]
  },
  {
   "cell_type": "code",
   "execution_count": 21,
   "id": "17bc5184",
   "metadata": {
    "ExecuteTime": {
     "end_time": "2021-07-24T13:00:06.004323Z",
     "start_time": "2021-07-24T13:00:05.988316Z"
    }
   },
   "outputs": [
    {
     "name": "stdout",
     "output_type": "stream",
     "text": [
      "['ab', 1, 2.4, 4.6, 'Sandeep']\n",
      "1\n"
     ]
    }
   ],
   "source": [
    "a=[\"ab\",1,2.4,4.6,\"Sandeep\"]   # list formate \n",
    "print(a)\n",
    "print(a[1])    # indexing in List"
   ]
  },
  {
   "cell_type": "code",
   "execution_count": 22,
   "id": "8cd77d5f",
   "metadata": {
    "ExecuteTime": {
     "end_time": "2021-07-24T13:01:07.002134Z",
     "start_time": "2021-07-24T13:01:06.882126Z"
    }
   },
   "outputs": [
    {
     "name": "stdout",
     "output_type": "stream",
     "text": [
      "[1, 5, 8, 9, 43, 32, 3, 43, 34, 43]\n",
      "[1, 3, 5, 8, 9, 32, 34, 43, 43, 43]\n"
     ]
    }
   ],
   "source": [
    "#operation on list using Sort ()\n",
    "\n",
    "a=[1,5,8,9,43,32,3,43,34,43,]\n",
    "print(a)\n",
    "a.sort()   # using sort function you can sort the numbers in asecending order\n",
    "print(a)"
   ]
  },
  {
   "cell_type": "code",
   "execution_count": 25,
   "id": "0e4d3701",
   "metadata": {
    "ExecuteTime": {
     "end_time": "2021-07-24T13:05:01.433952Z",
     "start_time": "2021-07-24T13:05:01.423871Z"
    }
   },
   "outputs": [
    {
     "name": "stdout",
     "output_type": "stream",
     "text": [
      "[1, 3, 5, 8, 9, 32, 34, 43, 43, 43]\n"
     ]
    }
   ],
   "source": [
    "# Operation on list using Reverse()\n",
    "\n",
    "a.reverse()\n",
    "print(a)"
   ]
  },
  {
   "cell_type": "code",
   "execution_count": 26,
   "id": "7c8685ad",
   "metadata": {
    "ExecuteTime": {
     "end_time": "2021-07-24T13:08:33.704160Z",
     "start_time": "2021-07-24T13:08:33.684310Z"
    }
   },
   "outputs": [
    {
     "name": "stdout",
     "output_type": "stream",
     "text": [
      "[3, 5, 8]\n"
     ]
    }
   ],
   "source": [
    "# Slicing on List\n",
    "\n",
    "print(a[1:4])"
   ]
  },
  {
   "cell_type": "code",
   "execution_count": 27,
   "id": "23d8a28a",
   "metadata": {
    "ExecuteTime": {
     "end_time": "2021-07-24T13:12:41.331370Z",
     "start_time": "2021-07-24T13:12:41.314623Z"
    }
   },
   "outputs": [
    {
     "name": "stdout",
     "output_type": "stream",
     "text": [
      "10\n"
     ]
    }
   ],
   "source": [
    "# Length of list\n",
    "\n",
    "print(len(a))"
   ]
  },
  {
   "cell_type": "code",
   "execution_count": 30,
   "id": "adde799d",
   "metadata": {
    "ExecuteTime": {
     "end_time": "2021-07-24T13:18:33.265669Z",
     "start_time": "2021-07-24T13:18:33.250597Z"
    }
   },
   "outputs": [
    {
     "name": "stdout",
     "output_type": "stream",
     "text": [
      "Maximum Value in the list:  43\n",
      "Minumum value in list:  1\n"
     ]
    }
   ],
   "source": [
    "# Max used to find the maximum term in the list\n",
    "\n",
    "print(\"Maximum Value in the list: \",max(a))\n",
    "\n",
    "# Min used ti find the minum term in the list\n",
    "\n",
    "print(\"Minumum value in list: \",min(a))"
   ]
  },
  {
   "cell_type": "code",
   "execution_count": 36,
   "id": "8897a4b2",
   "metadata": {
    "ExecuteTime": {
     "end_time": "2021-07-24T13:23:09.644134Z",
     "start_time": "2021-07-24T13:23:09.628134Z"
    }
   },
   "outputs": [
    {
     "name": "stdout",
     "output_type": "stream",
     "text": [
      "[1, 3, 5, 32, 34, 43, 43]\n"
     ]
    }
   ],
   "source": [
    "# Remove is use to remove from the list\n",
    "\n",
    "a.remove(9)\n",
    "print(a)"
   ]
  },
  {
   "cell_type": "markdown",
   "id": "c15fa95a",
   "metadata": {},
   "source": [
    "# Tuples ()\n",
    "* Collection of values \n",
    "* Tuples are Immutable\n",
    "* You cant perform action like remove,append\n"
   ]
  },
  {
   "cell_type": "code",
   "execution_count": 41,
   "id": "2e41fcb3",
   "metadata": {
    "ExecuteTime": {
     "end_time": "2021-07-24T13:37:47.936608Z",
     "start_time": "2021-07-24T13:37:47.900328Z"
    }
   },
   "outputs": [
    {
     "name": "stdout",
     "output_type": "stream",
     "text": [
      "(1, 2, 'Sandeep', 'Khandelwal', [1, 2, 3, 4])\n",
      "5\n",
      "(1, 2, 'Sandeep')\n"
     ]
    },
    {
     "ename": "AttributeError",
     "evalue": "'tuple' object has no attribute 'remove'",
     "output_type": "error",
     "traceback": [
      "\u001b[1;31m---------------------------------------------------------------------------\u001b[0m",
      "\u001b[1;31mAttributeError\u001b[0m                            Traceback (most recent call last)",
      "\u001b[1;32m<ipython-input-41-315ce05f7375>\u001b[0m in \u001b[0;36m<module>\u001b[1;34m\u001b[0m\n\u001b[0;32m      4\u001b[0m \u001b[0mprint\u001b[0m\u001b[1;33m(\u001b[0m\u001b[0ma\u001b[0m\u001b[1;33m[\u001b[0m\u001b[1;36m0\u001b[0m\u001b[1;33m:\u001b[0m\u001b[1;36m3\u001b[0m\u001b[1;33m]\u001b[0m\u001b[1;33m)\u001b[0m\u001b[1;33m\u001b[0m\u001b[1;33m\u001b[0m\u001b[0m\n\u001b[0;32m      5\u001b[0m \u001b[1;31m#print(a.sort())   # erro:- 'tuple' object has no attribute 'sort'\u001b[0m\u001b[1;33m\u001b[0m\u001b[1;33m\u001b[0m\u001b[1;33m\u001b[0m\u001b[0m\n\u001b[1;32m----> 6\u001b[1;33m \u001b[0mprint\u001b[0m\u001b[1;33m(\u001b[0m\u001b[0ma\u001b[0m\u001b[1;33m.\u001b[0m\u001b[0mremove\u001b[0m\u001b[1;33m(\u001b[0m\u001b[1;36m2\u001b[0m\u001b[1;33m)\u001b[0m\u001b[1;33m)\u001b[0m\u001b[1;33m\u001b[0m\u001b[1;33m\u001b[0m\u001b[0m\n\u001b[0m",
      "\u001b[1;31mAttributeError\u001b[0m: 'tuple' object has no attribute 'remove'"
     ]
    }
   ],
   "source": [
    "a=(1,2,\"Sandeep\",\"Khandelwal\",[1,2,3,4])\n",
    "print(a)\n",
    "print(len(a))\n",
    "print(a[0:3])\n",
    "print(a.sort())   # erro:- 'tuple' object has no attribute 'sort'\n",
    "print(a.remove(2))  # error:-'tuple' object has no attribute 'remove'"
   ]
  },
  {
   "cell_type": "markdown",
   "id": "4700e8f3",
   "metadata": {},
   "source": [
    "# Dictionaries { }\n",
    "\n",
    "* Collection of values which contains \"Key : Value/Element\" pairs\n",
    "* It is mutable \n",
    "* Operation on Dic\n",
    "    * Update\n",
    "    * Delete\n",
    "    * Adding\n",
    "    * length\n",
    "    "
   ]
  },
  {
   "cell_type": "code",
   "execution_count": 43,
   "id": "613b2cfc",
   "metadata": {
    "ExecuteTime": {
     "end_time": "2021-07-24T14:04:31.207289Z",
     "start_time": "2021-07-24T14:04:31.177385Z"
    }
   },
   "outputs": [
    {
     "name": "stdout",
     "output_type": "stream",
     "text": [
      "{'A': 'Sandeep', 'B': 'Khandelwal', 'C': 'Sunny', 'D': 'Buliya'}\n",
      "<class 'dict'>\n"
     ]
    }
   ],
   "source": [
    "a={\"A\":\"Sandeep\",\"B\":\"Khandelwal\",\"C\":\"Sunny\",\"D\":\"Buliya\"}\n",
    "print(a)\n",
    "print(type(a))"
   ]
  },
  {
   "cell_type": "code",
   "execution_count": 51,
   "id": "da46cfe1",
   "metadata": {
    "ExecuteTime": {
     "end_time": "2021-07-24T14:15:31.894911Z",
     "start_time": "2021-07-24T14:15:31.860458Z"
    }
   },
   "outputs": [
    {
     "name": "stdout",
     "output_type": "stream",
     "text": [
      "{'One': 'Monday', 'Two': 'Tuesday', 'Three': {'A': 'Wednesday', 'B': 'Thursday'}, 'Four': 'Friday', 'Five': 'Saturday'}\n",
      "5\n",
      "Tuesday\n",
      "Wednesday\n"
     ]
    }
   ],
   "source": [
    "day={\"One\":\"Monday\",\"Two\":\"Tuesday\",\"Three\":{\"A\":\"Wednesday\",\"B\":\"Thursday\"},\"Four\":\"Friday\",\"Five\":\"Saturday\"}\n",
    "print(day)\n",
    "print(len(day))\n",
    "print(day[\"Two\"])\n",
    "print(day[\"Three\"][\"A\"])\n",
    "\n",
    "#print(day.sort())   # error :-'dict' object has no attribute 'sort' ,becuase you can't do sorting in Dictionaries\n",
    "#print(day.remove(\"Five\")) # Error:-'dict' object has no attribute 'remove' .Becuase you can't use remove function in Dic\n"
   ]
  },
  {
   "cell_type": "code",
   "execution_count": 53,
   "id": "f10928ec",
   "metadata": {
    "ExecuteTime": {
     "end_time": "2021-07-24T14:36:37.141414Z",
     "start_time": "2021-07-24T14:36:37.131300Z"
    }
   },
   "outputs": [
    {
     "name": "stdout",
     "output_type": "stream",
     "text": [
      "{'One': 'Monday', 'Two': 'Tuesday', 'Three': {'A': 'Wednesday', 'B': 'Thursday'}, 'Four': 'Friday', 'Five': 'Saturday', 'Six': 'Sunday'}\n"
     ]
    }
   ],
   "source": [
    "# Adding values in the Dictionaries\n",
    "\n",
    "day[\"Six\"]=\"Sunday\"\n",
    "print(day)"
   ]
  },
  {
   "cell_type": "code",
   "execution_count": 54,
   "id": "955618d8",
   "metadata": {
    "ExecuteTime": {
     "end_time": "2021-07-24T14:39:34.963113Z",
     "start_time": "2021-07-24T14:39:34.883316Z"
    }
   },
   "outputs": [
    {
     "name": "stdout",
     "output_type": "stream",
     "text": [
      "{'One': 'Monday', 'Two': 'Tuesday', 'Three': {'A': 'Wednesday', 'B': 'Thursday'}, 'Four': 'Friday', 'Five': 'Saturday', 'Six': 'Sunday'}\n",
      "{'One': 'Monday', 'Two': 'Tuesday', 'Three': {'A': 'Wednesday', 'B': 'Thursday'}, 'Four': 'Friday', 'Five': 'Saturday'}\n"
     ]
    }
   ],
   "source": [
    "# Deleting Values in Dictionaries  using \"del()\"\n",
    "\n",
    "print(day)\n",
    "del(day[\"Six\"])\n",
    "print(day)"
   ]
  },
  {
   "cell_type": "code",
   "execution_count": 58,
   "id": "067a3672",
   "metadata": {
    "ExecuteTime": {
     "end_time": "2021-07-24T14:47:27.643555Z",
     "start_time": "2021-07-24T14:47:27.593691Z"
    }
   },
   "outputs": [
    {
     "name": "stdout",
     "output_type": "stream",
     "text": [
      "{'One': 'Holiday', 'Two': 'Tuesday', 'Three': {'A': 'Wednesday', 'B': 'Thursday'}, 'Four': 'Friday', 'Five': 'Saturday'}\n",
      "{'One': 'Holiday', 'Two': 'Working Day', 'Three': {'A': 'Wednesday', 'B': 'Thursday'}, 'Four': 'Friday', 'Five': 'Saturday'}\n"
     ]
    }
   ],
   "source": [
    "#Updating value sin Dictionaries using \"Update ()\"\n",
    "\n",
    "day.update({\"One\":\"Holiday\"})\n",
    "print(day)\n",
    "day.update({\"Two\":\"Working Day\"})\n",
    "print(day)"
   ]
  },
  {
   "cell_type": "code",
   "execution_count": 59,
   "id": "c23d8818",
   "metadata": {
    "ExecuteTime": {
     "end_time": "2021-07-24T14:49:48.433480Z",
     "start_time": "2021-07-24T14:49:48.413272Z"
    }
   },
   "outputs": [
    {
     "name": "stdout",
     "output_type": "stream",
     "text": [
      "dict_keys(['One', 'Two', 'Three', 'Four', 'Five'])\n",
      "dict_values(['Holiday', 'Working Day', {'A': 'Wednesday', 'B': 'Thursday'}, 'Friday', 'Saturday'])\n"
     ]
    }
   ],
   "source": [
    "# Keys & Values\n",
    "print(day.keys())\n",
    "print(day.values())"
   ]
  },
  {
   "cell_type": "markdown",
   "id": "b2f5e48a",
   "metadata": {},
   "source": [
    "# Condition In Python\n",
    "\n",
    "* If else\n",
    "* if elif else"
   ]
  },
  {
   "cell_type": "code",
   "execution_count": 60,
   "id": "90084236",
   "metadata": {
    "ExecuteTime": {
     "end_time": "2021-07-24T14:58:48.714678Z",
     "start_time": "2021-07-24T14:58:45.014551Z"
    }
   },
   "outputs": [
    {
     "name": "stdout",
     "output_type": "stream",
     "text": [
      "Enter the first number: 2\n",
      "Enter the second number4\n",
      "B is greater than A\n"
     ]
    }
   ],
   "source": [
    "# IF Else condition\n",
    "\n",
    "#Comparing two condition using \"If -Else\" condition\n",
    "#this is used for only two condition\n",
    "\n",
    "a=int(input(\"Enter the first number: \"))\n",
    "b=int(input(\"Enter the second number\"))\n",
    "if a<b:\n",
    "    print(\"B is greater than A\")\n",
    "else:\n",
    "    print(\"A is greater than B\")"
   ]
  },
  {
   "cell_type": "code",
   "execution_count": 61,
   "id": "e76866bd",
   "metadata": {
    "ExecuteTime": {
     "end_time": "2021-07-24T15:05:47.260531Z",
     "start_time": "2021-07-24T15:05:44.082951Z"
    }
   },
   "outputs": [
    {
     "name": "stdout",
     "output_type": "stream",
     "text": [
      "Enter the first number: 12\n",
      "Enter the second number12\n",
      "Bothe have the Same value\n"
     ]
    }
   ],
   "source": [
    "# If Elif Else Condition\n",
    "\n",
    "#comparing more than two condition using \"If Elif Else\" condition\n",
    "\n",
    "a=int(input(\"Enter the first number: \"))\n",
    "b=int(input(\"Enter the second number\"))\n",
    "if a<b:\n",
    "    print(\"B is greater than A\")\n",
    "elif a==b:\n",
    "    print(\"Bothe have the Same value\")\n",
    "else:\n",
    "    print(\"A is greater than B\")"
   ]
  },
  {
   "cell_type": "code",
   "execution_count": 66,
   "id": "16db06e3",
   "metadata": {
    "ExecuteTime": {
     "end_time": "2021-07-24T15:19:13.160599Z",
     "start_time": "2021-07-24T15:19:08.564727Z"
    }
   },
   "outputs": [
    {
     "name": "stdout",
     "output_type": "stream",
     "text": [
      "Enter the Number: 20\n",
      "Enter thr number: 20\n",
      "Enter the number: 20\n",
      "All have equal values\n"
     ]
    }
   ],
   "source": [
    "#\n",
    "a=int(input(\"Enter the Number: \"))\n",
    "b=int(input(\"Enter thr number: \"))\n",
    "c=int(input(\"Enter the number: \"))\n",
    "if a>b and a>c:\n",
    "    print(\"A is gretaer than A & B\")\n",
    "elif a<b and b>c:\n",
    "    print(\"B is greater than C & A\")\n",
    "elif a==b==c:\n",
    "    print(\"All have equal values\")\n",
    "else:\n",
    "    print(\"C is greater than B & A\")"
   ]
  },
  {
   "cell_type": "markdown",
   "id": "01e734e0",
   "metadata": {},
   "source": [
    "# For Loop\n",
    "* Syntax for For Loop is  \" for i in range (): \"\n",
    "* for loop is been used when we want to acess many elements from list,dic i.e when we want something to repeat\n",
    "* While loop has been used when we want to print a number upto a particular number or condition."
   ]
  },
  {
   "cell_type": "code",
   "execution_count": 67,
   "id": "68e164ad",
   "metadata": {
    "ExecuteTime": {
     "end_time": "2021-07-24T15:26:28.790855Z",
     "start_time": "2021-07-24T15:26:28.731840Z"
    }
   },
   "outputs": [
    {
     "name": "stdout",
     "output_type": "stream",
     "text": [
      "0\n",
      "1\n",
      "2\n",
      "3\n",
      "4\n"
     ]
    }
   ],
   "source": [
    "i=0\n",
    "for i in range(5):\n",
    "    print(i)"
   ]
  },
  {
   "cell_type": "code",
   "execution_count": 84,
   "id": "c9057b4e",
   "metadata": {
    "ExecuteTime": {
     "end_time": "2021-07-24T15:50:04.997400Z",
     "start_time": "2021-07-24T15:50:04.966391Z"
    }
   },
   "outputs": [
    {
     "name": "stdout",
     "output_type": "stream",
     "text": [
      "2 X 0 = 0\n",
      "2 X 1 = 2\n",
      "2 X 2 = 4\n",
      "2 X 3 = 6\n",
      "2 X 4 = 8\n",
      "2 X 5 = 10\n",
      "2 X 6 = 12\n",
      "2 X 7 = 14\n",
      "2 X 8 = 16\n",
      "2 X 9 = 18\n",
      "2 X 10 = 20\n"
     ]
    }
   ],
   "source": [
    "i=1\n",
    "a=2\n",
    "for i in range(11):\n",
    "    print(a,\"X\",i,\"=\",i*a)"
   ]
  },
  {
   "cell_type": "code",
   "execution_count": 92,
   "id": "b56f7d24",
   "metadata": {
    "ExecuteTime": {
     "end_time": "2021-07-24T16:51:20.199302Z",
     "start_time": "2021-07-24T16:51:20.008253Z"
    }
   },
   "outputs": [
    {
     "name": "stdout",
     "output_type": "stream",
     "text": [
      "Muliplication Table\n",
      "1 x 1 = 1\n",
      "1 x 2 = 2\n",
      "1 x 3 = 3\n",
      "1 x 4 = 4\n",
      "1 x 5 = 5\n",
      "1 x 6 = 6\n",
      "1 x 7 = 7\n",
      "1 x 8 = 8\n",
      "1 x 9 = 9\n",
      "1 x 10 = 10\n",
      "==========\n",
      "2 x 1 = 2\n",
      "2 x 2 = 4\n",
      "2 x 3 = 6\n",
      "2 x 4 = 8\n",
      "2 x 5 = 10\n",
      "2 x 6 = 12\n",
      "2 x 7 = 14\n",
      "2 x 8 = 16\n",
      "2 x 9 = 18\n",
      "2 x 10 = 20\n",
      "==========\n",
      "3 x 1 = 3\n",
      "3 x 2 = 6\n",
      "3 x 3 = 9\n",
      "3 x 4 = 12\n",
      "3 x 5 = 15\n",
      "3 x 6 = 18\n",
      "3 x 7 = 21\n",
      "3 x 8 = 24\n",
      "3 x 9 = 27\n",
      "3 x 10 = 30\n",
      "==========\n",
      "4 x 1 = 4\n",
      "4 x 2 = 8\n",
      "4 x 3 = 12\n",
      "4 x 4 = 16\n",
      "4 x 5 = 20\n",
      "4 x 6 = 24\n",
      "4 x 7 = 28\n",
      "4 x 8 = 32\n",
      "4 x 9 = 36\n",
      "4 x 10 = 40\n",
      "==========\n",
      "5 x 1 = 5\n",
      "5 x 2 = 10\n",
      "5 x 3 = 15\n",
      "5 x 4 = 20\n",
      "5 x 5 = 25\n",
      "5 x 6 = 30\n",
      "5 x 7 = 35\n",
      "5 x 8 = 40\n",
      "5 x 9 = 45\n",
      "5 x 10 = 50\n",
      "==========\n",
      "6 x 1 = 6\n",
      "6 x 2 = 12\n",
      "6 x 3 = 18\n",
      "6 x 4 = 24\n",
      "6 x 5 = 30\n",
      "6 x 6 = 36\n",
      "6 x 7 = 42\n",
      "6 x 8 = 48\n",
      "6 x 9 = 54\n",
      "6 x 10 = 60\n",
      "==========\n",
      "7 x 1 = 7\n",
      "7 x 2 = 14\n",
      "7 x 3 = 21\n",
      "7 x 4 = 28\n",
      "7 x 5 = 35\n",
      "7 x 6 = 42\n",
      "7 x 7 = 49\n",
      "7 x 8 = 56\n",
      "7 x 9 = 63\n",
      "7 x 10 = 70\n",
      "==========\n",
      "8 x 1 = 8\n",
      "8 x 2 = 16\n",
      "8 x 3 = 24\n",
      "8 x 4 = 32\n",
      "8 x 5 = 40\n",
      "8 x 6 = 48\n",
      "8 x 7 = 56\n",
      "8 x 8 = 64\n",
      "8 x 9 = 72\n",
      "8 x 10 = 80\n",
      "==========\n",
      "9 x 1 = 9\n",
      "9 x 2 = 18\n",
      "9 x 3 = 27\n",
      "9 x 4 = 36\n",
      "9 x 5 = 45\n",
      "9 x 6 = 54\n",
      "9 x 7 = 63\n",
      "9 x 8 = 72\n",
      "9 x 9 = 81\n",
      "9 x 10 = 90\n",
      "==========\n"
     ]
    }
   ],
   "source": [
    "print(\"Muliplication Table\")\n",
    "for i in range(1,10):\n",
    "    for j in range(1,11):\n",
    "        print(i,'x',j,'=',i*j) \n",
    "    print(\"==========\")"
   ]
  },
  {
   "cell_type": "markdown",
   "id": "396e578e",
   "metadata": {},
   "source": [
    "# While Loop"
   ]
  },
  {
   "cell_type": "code",
   "execution_count": 100,
   "id": "21369df2",
   "metadata": {
    "ExecuteTime": {
     "end_time": "2021-07-24T17:10:29.766519Z",
     "start_time": "2021-07-24T17:10:29.746510Z"
    }
   },
   "outputs": [
    {
     "name": "stdout",
     "output_type": "stream",
     "text": [
      "20\n",
      "21\n",
      "22\n",
      "23\n",
      "24\n",
      "25\n",
      "26\n",
      "27\n",
      "28\n",
      "29\n",
      "30\n"
     ]
    }
   ],
   "source": [
    "# while loop is only used when we had given a condition\n",
    "a=20\n",
    "while a<=30:\n",
    "    print(a )\n",
    "    a=a+1     #increment is very important in while loop otherwise code ll go into infinite loop"
   ]
  },
  {
   "cell_type": "code",
   "execution_count": 101,
   "id": "69c8554d",
   "metadata": {
    "ExecuteTime": {
     "end_time": "2021-07-24T17:18:38.517789Z",
     "start_time": "2021-07-24T17:18:38.497786Z"
    }
   },
   "outputs": [
    {
     "name": "stdout",
     "output_type": "stream",
     "text": [
      "21\n",
      "22\n",
      "23\n",
      "24\n",
      "25\n",
      "26\n",
      "27\n",
      "28\n",
      "29\n",
      "30\n"
     ]
    }
   ],
   "source": [
    "a=20\n",
    "while a<30:\n",
    "    a=a+1 \n",
    "    print(a )\n",
    "    #a=a+1 "
   ]
  },
  {
   "cell_type": "markdown",
   "id": "d77fb564",
   "metadata": {},
   "source": [
    "# Function and Docstrings\n",
    "\n",
    "* FUnction\n",
    "    * Built-in Function == Pre-defined,which are already defined in python\n",
    "    * User-Defined Function =user make and defined as per the need and condition\n",
    "    "
   ]
  },
  {
   "cell_type": "code",
   "execution_count": 104,
   "id": "63e650fb",
   "metadata": {
    "ExecuteTime": {
     "end_time": "2021-07-24T17:34:20.814285Z",
     "start_time": "2021-07-24T17:34:18.329343Z"
    }
   },
   "outputs": [
    {
     "name": "stdout",
     "output_type": "stream",
     "text": [
      " Enter the number : 1\n",
      "Enter the another number: 2\n",
      "3\n"
     ]
    }
   ],
   "source": [
    "# Example of Built-in Function\n",
    "\n",
    "a=int(input(\" Enter the number : \"))\n",
    "b=int(input(\"Enter the another number: \"))\n",
    "c=sum((a,b))  # sum is pre-defined or built-in function\n",
    "print(c)\n"
   ]
  },
  {
   "cell_type": "code",
   "execution_count": 105,
   "id": "a6b23aab",
   "metadata": {
    "ExecuteTime": {
     "end_time": "2021-07-24T17:39:52.457036Z",
     "start_time": "2021-07-24T17:39:52.445038Z"
    }
   },
   "outputs": [
    {
     "name": "stdout",
     "output_type": "stream",
     "text": [
      "I am learning Python Priogramming\n"
     ]
    }
   ],
   "source": [
    "# USer-Defined function without parameter\n",
    "\n",
    "def one():   # function declaration\n",
    "    print(\"I am learning Python Priogramming\")\n",
    "one()   # function calling    "
   ]
  },
  {
   "cell_type": "code",
   "execution_count": 109,
   "id": "df5455da",
   "metadata": {
    "ExecuteTime": {
     "end_time": "2021-07-24T17:47:57.732414Z",
     "start_time": "2021-07-24T17:47:57.711733Z"
    }
   },
   "outputs": [
    {
     "name": "stdout",
     "output_type": "stream",
     "text": [
      "12\n"
     ]
    }
   ],
   "source": [
    "# user-defined function with parameter\n",
    "\n",
    "#here a,b are user deined parameter\n",
    "\n",
    "def multiply(a,b):  # function declaration\n",
    "    c=a*b\n",
    "    print(c)\n",
    "multiply(3,4)   # function calling  "
   ]
  },
  {
   "cell_type": "code",
   "execution_count": 112,
   "id": "639d94f8",
   "metadata": {
    "ExecuteTime": {
     "end_time": "2021-07-24T17:55:23.317170Z",
     "start_time": "2021-07-24T17:55:20.726960Z"
    }
   },
   "outputs": [
    {
     "name": "stdout",
     "output_type": "stream",
     "text": [
      "Enter the radius: 4\n",
      "50.24\n"
     ]
    }
   ],
   "source": [
    "# calculate are of circle\n",
    "def cricle():\n",
    "    r=int(input(\"Enter the radius: \"))\n",
    "    A=3.14 * r * r\n",
    "    print(A)\n",
    "cricle()   "
   ]
  },
  {
   "cell_type": "code",
   "execution_count": 115,
   "id": "1958bf58",
   "metadata": {
    "ExecuteTime": {
     "end_time": "2021-07-24T17:59:39.379259Z",
     "start_time": "2021-07-24T17:59:36.351352Z"
    }
   },
   "outputs": [
    {
     "name": "stdout",
     "output_type": "stream",
     "text": [
      "Enter the lenght of triangle: 3\n",
      "Enter the breadth of trinagle: 5\n",
      "Enter the height of the traingle: 7\n",
      "Area of trainagle is :  105\n"
     ]
    }
   ],
   "source": [
    "# calculate are of triangle\n",
    "\n",
    "def area_trinagle():\n",
    "    l=int(input(\"Enter the lenght of triangle: \"))\n",
    "    b=int(input(\"Enter the breadth of trinagle: \"))\n",
    "    h=int(input(\"Enter the height of the traingle: \"))\n",
    "    Area=l * b * h\n",
    "    print(\"Area of trainagle is : \",Area)\n",
    "area_trinagle()    "
   ]
  },
  {
   "cell_type": "markdown",
   "id": "8e04da84",
   "metadata": {},
   "source": [
    "# Doc String"
   ]
  },
  {
   "cell_type": "code",
   "execution_count": 118,
   "id": "88d57aaa",
   "metadata": {
    "ExecuteTime": {
     "end_time": "2021-07-24T18:06:01.585294Z",
     "start_time": "2021-07-24T18:05:58.866678Z"
    }
   },
   "outputs": [
    {
     "name": "stdout",
     "output_type": "stream",
     "text": [
      "Enter the lenght of triangle: 5\n",
      "Enter the breadth of trinagle: 6\n",
      "Enter the height of the traingle: 8\n",
      "Area of trainagle is :  240\n",
      " This programme computes Area of Triangle\n"
     ]
    }
   ],
   "source": [
    "def area_triangle():\n",
    "    \"\"\" This programme computes Area of Triangle\"\"\"  # defining the doc string \n",
    "    l=int(input(\"Enter the lenght of triangle: \"))\n",
    "    b=int(input(\"Enter the breadth of trinagle: \"))\n",
    "    h=int(input(\"Enter the height of the traingle: \"))\n",
    "    Area=l * b * h\n",
    "    print(\"Area of trainagle is : \",Area)\n",
    "area_triangle() \n",
    "print(area_triangle.__doc__)    # this is the function is used to print the doc string from the code\n"
   ]
  },
  {
   "cell_type": "markdown",
   "id": "ad0a30cf",
   "metadata": {},
   "source": [
    "# F-Strings\n",
    "* It is used when you want to print any value,string,character into your print statements.\n"
   ]
  },
  {
   "cell_type": "code",
   "execution_count": 120,
   "id": "4ad1941a",
   "metadata": {
    "ExecuteTime": {
     "end_time": "2021-07-24T18:14:54.520388Z",
     "start_time": "2021-07-24T18:14:54.496393Z"
    }
   },
   "outputs": [
    {
     "name": "stdout",
     "output_type": "stream",
     "text": [
      "I am Learning Python Programme\n"
     ]
    }
   ],
   "source": [
    "#Example\n",
    "a=\"Python Programme\"\n",
    "print(f\"I am Learning {a}\")   # f is defined as F-String"
   ]
  },
  {
   "cell_type": "markdown",
   "id": "9123a55f",
   "metadata": {},
   "source": [
    "# If __name__ =='__main__'"
   ]
  },
  {
   "cell_type": "code",
   "execution_count": null,
   "id": "26d784ad",
   "metadata": {},
   "outputs": [],
   "source": []
  }
 ],
 "metadata": {
  "kernelspec": {
   "display_name": "Python 3",
   "language": "python",
   "name": "python3"
  },
  "language_info": {
   "codemirror_mode": {
    "name": "ipython",
    "version": 3
   },
   "file_extension": ".py",
   "mimetype": "text/x-python",
   "name": "python",
   "nbconvert_exporter": "python",
   "pygments_lexer": "ipython3",
   "version": "3.8.10"
  },
  "varInspector": {
   "cols": {
    "lenName": 16,
    "lenType": 16,
    "lenVar": 40
   },
   "kernels_config": {
    "python": {
     "delete_cmd_postfix": "",
     "delete_cmd_prefix": "del ",
     "library": "var_list.py",
     "varRefreshCmd": "print(var_dic_list())"
    },
    "r": {
     "delete_cmd_postfix": ") ",
     "delete_cmd_prefix": "rm(",
     "library": "var_list.r",
     "varRefreshCmd": "cat(var_dic_list()) "
    }
   },
   "types_to_exclude": [
    "module",
    "function",
    "builtin_function_or_method",
    "instance",
    "_Feature"
   ],
   "window_display": false
  }
 },
 "nbformat": 4,
 "nbformat_minor": 5
}
